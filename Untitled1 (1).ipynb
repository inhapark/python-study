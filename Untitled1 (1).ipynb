{
  "nbformat": 4,
  "nbformat_minor": 0,
  "metadata": {
    "colab": {
      "provenance": []
    },
    "kernelspec": {
      "name": "python3",
      "display_name": "Python 3"
    },
    "language_info": {
      "name": "python"
    }
  },
  "cells": [
    {
      "cell_type": "code",
      "execution_count": 2,
      "metadata": {
        "colab": {
          "base_uri": "https://localhost:8080/"
        },
        "id": "FUI8OH6yHQUn",
        "outputId": "b1440922-7bc6-4b13-80c8-ff7638c091df"
      },
      "outputs": [
        {
          "output_type": "stream",
          "name": "stdout",
          "text": [
            "첫 번째 숫자를 입력하세요: 1\n",
            "두 번째 숫자를 입력하세요: 2\n",
            "1 + 2 = 3\n"
          ]
        }
      ],
      "source": [
        "# 👋 간단한 덧셈 계산기\n",
        "\n",
        "# 사용자 입력 받기\n",
        "a = int(input(\"첫 번째 숫자를 입력하세요: \"))\n",
        "b = int(input(\"두 번째 숫자를 입력하세요: \"))\n",
        "\n",
        "# 계산\n",
        "result = a + b\n",
        "\n",
        "# 출력\n",
        "print(f\"{a} + {b} = {result}\")\n"
      ]
    }
  ]
}