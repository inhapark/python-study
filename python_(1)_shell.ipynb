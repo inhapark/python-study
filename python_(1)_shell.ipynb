{
 "cells": [
  {
   "cell_type": "markdown",
   "id": "0744965f",
   "metadata": {},
   "source": [
    "\n",
    "# 🐍 파이썬 셸(Python Shell) 기초 요약\n",
    "\n",
    "## ✅ 파이썬 셸의 특징\n",
    "- `print()` 없이도 값이 출력됨\n",
    "- `len(\"hello world\")` → 문자열 길이 출력\n",
    "\n",
    "```python\n",
    "print(1 + 1)\n",
    "1 + 1\n",
    "len(\"hello world\")\n",
    "```\n",
    "\n",
    "## ✅ 변수 여러 개 할당하기\n",
    "- 세미콜론(;) 사용 → 여러 명령어를 한 줄에 실행  \n",
    "- 마지막 명령어의 결과만 출력됨\n",
    "\n",
    "```python\n",
    "a = 1; b = 1; a + b\n",
    "```\n",
    "\n",
    "- 역슬래시(\\) 사용 → 여러 줄에 나눠 실행할 수 있음\n",
    "\n",
    "```python\n",
    "a = 1; \\\n",
    "b = 1; \\\n",
    "a + b\n",
    "```\n",
    "\n",
    "## ✅ 셸 종료 방법\n",
    "- `exit()` 또는 `Ctrl + Z` 후 `Enter`  \n",
    "```python\n",
    "exit()\n",
    "```\n"
   ]
  }
 ],
 "metadata": {},
 "nbformat": 4,
 "nbformat_minor": 5
}
