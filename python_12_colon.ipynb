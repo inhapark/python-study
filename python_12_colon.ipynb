{
 "cells": [
  {
   "cell_type": "markdown",
   "id": "03fae48e",
   "metadata": {},
   "source": [
    "# 📘 파이썬에서 콜론(`:`)의 의미\n"
   ]
  },
  {
   "cell_type": "markdown",
   "id": "cdc41e83",
   "metadata": {},
   "source": [
    "## 🐍 1. 콜론의 역할\n",
    "- 콜론(`:`)은 **\"이제부터 새로운 코드 블록이 시작된다\"**라는 신호  \n",
    "- 즉, **콜론 앞**은 \"조건/선언부\", **콜론 뒤(들여쓰기 된 코드)\"는 \"실행부\"  "
   ]
  },
  {
   "cell_type": "markdown",
   "id": "67b82551",
   "metadata": {},
   "source": [
    "## 🐍 2. 콜론이 필요한 이유\n",
    "- 파이썬은 다른 언어처럼 `{ }` 중괄호를 쓰지 않고,  \n",
    "  **콜론(`:`) + 들여쓰기**로 코드 블록을 구분함  \n",
    "- `:`가 없으면 파이썬은 블록 시작을 알 수 없어 문법 오류 발생"
   ]
  },
  {
   "cell_type": "markdown",
   "id": "f27f673b",
   "metadata": {},
   "source": [
    "## 🐍 3. 예시 1: if 조건문"
   ]
  },
  {
   "cell_type": "code",
   "execution_count": null,
   "id": "aa048ec6",
   "metadata": {},
   "outputs": [
    {
     "name": "stdout",
     "output_type": "stream",
     "text": [
      "x는 10보다 큽니다\n"
     ]
    }
   ],
   "source": [
    "x = 15\n",
    "if x > 10:\n",
    "    print(\"x는 10보다 큽니다\")"
   ]
  },
  {
   "cell_type": "markdown",
   "id": "548997c8",
   "metadata": {},
   "source": [
    "## 🐍 4. 예시 2: for 반복문"
   ]
  },
  {
   "cell_type": "code",
   "execution_count": null,
   "id": "35cdac53",
   "metadata": {},
   "outputs": [
    {
     "name": "stdout",
     "output_type": "stream",
     "text": [
      "a\n",
      "b\n",
      "c\n"
     ]
    }
   ],
   "source": [
    "for name in ['a', 'b', 'c']:\n",
    "    print(name)"
   ]
  },
  {
   "cell_type": "markdown",
   "id": "c883a651",
   "metadata": {},
   "source": [
    "## ✅ 최종 정리표\n",
    "\n",
    "| 위치 | 이름 | 하는 역할 |\n",
    "|------|------|-----------|\n",
    "| 콜론 앞 | **조건/선언부** | 어떤 상황/반복/정의인지 설명 |\n",
    "| 콜론 뒤 (들여쓰기 블록) | **실행부** | 실제로 실행되는 코드 |"
   ]
  }
 ],
 "metadata": {},
 "nbformat": 4,
 "nbformat_minor": 5
}
